{
 "cells": [
  {
   "cell_type": "code",
   "execution_count": 1,
   "metadata": {},
   "outputs": [],
   "source": [
    "import pandas as pd\n",
    "import numpy as array "
   ]
  },
  {
   "cell_type": "code",
   "execution_count": 2,
   "metadata": {},
   "outputs": [],
   "source": [
    "data=pd.read_excel(\"stock price lmst.xlsx\",sheet_name=0)"
   ]
  },
  {
   "cell_type": "code",
   "execution_count": 3,
   "metadata": {},
   "outputs": [
    {
     "data": {
      "text/html": [
       "<div>\n",
       "<style scoped>\n",
       "    .dataframe tbody tr th:only-of-type {\n",
       "        vertical-align: middle;\n",
       "    }\n",
       "\n",
       "    .dataframe tbody tr th {\n",
       "        vertical-align: top;\n",
       "    }\n",
       "\n",
       "    .dataframe thead th {\n",
       "        text-align: right;\n",
       "    }\n",
       "</style>\n",
       "<table border=\"1\" class=\"dataframe\">\n",
       "  <thead>\n",
       "    <tr style=\"text-align: right;\">\n",
       "      <th></th>\n",
       "      <th>Date</th>\n",
       "      <th>Open</th>\n",
       "      <th>High</th>\n",
       "      <th>Low</th>\n",
       "      <th>Last</th>\n",
       "      <th>Close</th>\n",
       "      <th>Total Trade Quantity</th>\n",
       "      <th>Turnover (Lacs)</th>\n",
       "    </tr>\n",
       "  </thead>\n",
       "  <tbody>\n",
       "    <tr>\n",
       "      <th>0</th>\n",
       "      <td>2018-09-28</td>\n",
       "      <td>234.05</td>\n",
       "      <td>235.95</td>\n",
       "      <td>230.20</td>\n",
       "      <td>233.50</td>\n",
       "      <td>233.75</td>\n",
       "      <td>3069914</td>\n",
       "      <td>7162.35</td>\n",
       "    </tr>\n",
       "    <tr>\n",
       "      <th>1</th>\n",
       "      <td>2018-09-27</td>\n",
       "      <td>234.55</td>\n",
       "      <td>236.80</td>\n",
       "      <td>231.10</td>\n",
       "      <td>233.80</td>\n",
       "      <td>233.25</td>\n",
       "      <td>5082859</td>\n",
       "      <td>11859.95</td>\n",
       "    </tr>\n",
       "    <tr>\n",
       "      <th>2</th>\n",
       "      <td>2018-09-26</td>\n",
       "      <td>240.00</td>\n",
       "      <td>240.00</td>\n",
       "      <td>232.50</td>\n",
       "      <td>235.00</td>\n",
       "      <td>234.25</td>\n",
       "      <td>2240909</td>\n",
       "      <td>5248.60</td>\n",
       "    </tr>\n",
       "    <tr>\n",
       "      <th>3</th>\n",
       "      <td>2018-09-25</td>\n",
       "      <td>233.30</td>\n",
       "      <td>236.75</td>\n",
       "      <td>232.00</td>\n",
       "      <td>236.25</td>\n",
       "      <td>236.10</td>\n",
       "      <td>2349368</td>\n",
       "      <td>5503.90</td>\n",
       "    </tr>\n",
       "    <tr>\n",
       "      <th>4</th>\n",
       "      <td>2018-09-24</td>\n",
       "      <td>233.55</td>\n",
       "      <td>239.20</td>\n",
       "      <td>230.75</td>\n",
       "      <td>234.00</td>\n",
       "      <td>233.30</td>\n",
       "      <td>3423509</td>\n",
       "      <td>7999.55</td>\n",
       "    </tr>\n",
       "  </tbody>\n",
       "</table>\n",
       "</div>"
      ],
      "text/plain": [
       "        Date    Open    High     Low    Last   Close  Total Trade Quantity  \\\n",
       "0 2018-09-28  234.05  235.95  230.20  233.50  233.75               3069914   \n",
       "1 2018-09-27  234.55  236.80  231.10  233.80  233.25               5082859   \n",
       "2 2018-09-26  240.00  240.00  232.50  235.00  234.25               2240909   \n",
       "3 2018-09-25  233.30  236.75  232.00  236.25  236.10               2349368   \n",
       "4 2018-09-24  233.55  239.20  230.75  234.00  233.30               3423509   \n",
       "\n",
       "   Turnover (Lacs)  \n",
       "0          7162.35  \n",
       "1         11859.95  \n",
       "2          5248.60  \n",
       "3          5503.90  \n",
       "4          7999.55  "
      ]
     },
     "execution_count": 3,
     "metadata": {},
     "output_type": "execute_result"
    }
   ],
   "source": [
    "data.head()"
   ]
  },
  {
   "cell_type": "code",
   "execution_count": 4,
   "metadata": {},
   "outputs": [],
   "source": [
    "traning_set = data.iloc[:,1:2].values"
   ]
  },
  {
   "cell_type": "code",
   "execution_count": 5,
   "metadata": {},
   "outputs": [
    {
     "data": {
      "text/plain": [
       "array([[234.05],\n",
       "       [234.55],\n",
       "       [240.  ],\n",
       "       ...,\n",
       "       [121.8 ],\n",
       "       [120.3 ],\n",
       "       [122.1 ]])"
      ]
     },
     "execution_count": 5,
     "metadata": {},
     "output_type": "execute_result"
    }
   ],
   "source": [
    "traning_set"
   ]
  },
  {
   "cell_type": "code",
   "execution_count": 6,
   "metadata": {},
   "outputs": [
    {
     "data": {
      "text/plain": [
       "numpy.ndarray"
      ]
     },
     "execution_count": 6,
     "metadata": {},
     "output_type": "execute_result"
    }
   ],
   "source": [
    "type(traning_set)"
   ]
  },
  {
   "cell_type": "code",
   "execution_count": 7,
   "metadata": {},
   "outputs": [],
   "source": [
    "#scaling \n",
    "from sklearn.preprocessing import MinMaxScaler\n",
    "sc=MinMaxScaler(feature_range=(0,1))"
   ]
  },
  {
   "cell_type": "code",
   "execution_count": 8,
   "metadata": {},
   "outputs": [
    {
     "data": {
      "text/plain": [
       "array([[0.6202352 ],\n",
       "       [0.62226277],\n",
       "       [0.64436334],\n",
       "       ...,\n",
       "       [0.16504461],\n",
       "       [0.15896188],\n",
       "       [0.16626115]])"
      ]
     },
     "execution_count": 8,
     "metadata": {},
     "output_type": "execute_result"
    }
   ],
   "source": [
    "traning_set_scaled = sc.fit_transform(traning_set)\n",
    "traning_set_scaled"
   ]
  },
  {
   "cell_type": "code",
   "execution_count": 9,
   "metadata": {},
   "outputs": [
    {
     "data": {
      "text/plain": [
       "numpy.ndarray"
      ]
     },
     "execution_count": 9,
     "metadata": {},
     "output_type": "execute_result"
    }
   ],
   "source": [
    "type(traning_set_scaled)"
   ]
  },
  {
   "cell_type": "code",
   "execution_count": 15,
   "metadata": {},
   "outputs": [],
   "source": [
    "## Example \n",
    "dat= traning_set_scaled[0:10]\n",
    "ls=[]\n",
    "ls1=[]\n",
    "for i in range (4,10):\n",
    "    ls.append(dat[i-4:10])\n",
    "    ls1.append(dat[i,0])# to reframe it we added 0 "
   ]
  },
  {
   "cell_type": "code",
   "execution_count": 16,
   "metadata": {
    "scrolled": true
   },
   "outputs": [
    {
     "data": {
      "text/plain": [
       "[array([[0.6202352 ],\n",
       "        [0.62226277],\n",
       "        [0.64436334],\n",
       "        [0.61719384],\n",
       "        [0.61820762],\n",
       "        [0.62408759],\n",
       "        [0.62793998],\n",
       "        [0.63584753],\n",
       "        [0.61658556],\n",
       "        [0.57725061]]), array([[0.62226277],\n",
       "        [0.64436334],\n",
       "        [0.61719384],\n",
       "        [0.61820762],\n",
       "        [0.62408759],\n",
       "        [0.62793998],\n",
       "        [0.63584753],\n",
       "        [0.61658556],\n",
       "        [0.57725061]]), array([[0.64436334],\n",
       "        [0.61719384],\n",
       "        [0.61820762],\n",
       "        [0.62408759],\n",
       "        [0.62793998],\n",
       "        [0.63584753],\n",
       "        [0.61658556],\n",
       "        [0.57725061]]), array([[0.61719384],\n",
       "        [0.61820762],\n",
       "        [0.62408759],\n",
       "        [0.62793998],\n",
       "        [0.63584753],\n",
       "        [0.61658556],\n",
       "        [0.57725061]]), array([[0.61820762],\n",
       "        [0.62408759],\n",
       "        [0.62793998],\n",
       "        [0.63584753],\n",
       "        [0.61658556],\n",
       "        [0.57725061]]), array([[0.62408759],\n",
       "        [0.62793998],\n",
       "        [0.63584753],\n",
       "        [0.61658556],\n",
       "        [0.57725061]])]"
      ]
     },
     "execution_count": 16,
     "metadata": {},
     "output_type": "execute_result"
    }
   ],
   "source": [
    "ls"
   ]
  },
  {
   "cell_type": "code",
   "execution_count": 17,
   "metadata": {},
   "outputs": [
    {
     "data": {
      "text/plain": [
       "[0.6182076236820763,\n",
       " 0.6240875912408759,\n",
       " 0.6279399837793997,\n",
       " 0.6358475263584753,\n",
       " 0.6165855636658556,\n",
       " 0.577250608272506]"
      ]
     },
     "execution_count": 17,
     "metadata": {},
     "output_type": "execute_result"
    }
   ],
   "source": [
    "ls1"
   ]
  },
  {
   "cell_type": "code",
   "execution_count": 18,
   "metadata": {},
   "outputs": [
    {
     "data": {
      "text/plain": [
       "2035"
      ]
     },
     "execution_count": 18,
     "metadata": {},
     "output_type": "execute_result"
    }
   ],
   "source": [
    "len(traning_set_scaled)"
   ]
  },
  {
   "cell_type": "code",
   "execution_count": 20,
   "metadata": {},
   "outputs": [],
   "source": [
    "import numpy as np"
   ]
  },
  {
   "cell_type": "code",
   "execution_count": 21,
   "metadata": {},
   "outputs": [],
   "source": [
    "#Mian loop input (60)and out put(61 value) \n",
    "#similarly doing for the original data as above example \n",
    "x_train=[]\n",
    "y_train=[]\n",
    "\n",
    "for i in range (60,len(traning_set_scaled)):\n",
    "    x_train.append(traning_set_scaled[i-60:i,0])\n",
    "    y_train.append(traning_set_scaled[i,0])#added 0 for formatting\n",
    "x_train,y_train=np.array(x_train),np.array(y_train)"
   ]
  },
  {
   "cell_type": "code",
   "execution_count": 22,
   "metadata": {},
   "outputs": [
    {
     "data": {
      "text/plain": [
       "array([0.6202352 , 0.62226277, 0.64436334, 0.61719384, 0.61820762,\n",
       "       0.62408759, 0.62793998, 0.63584753, 0.61658556, 0.57725061,\n",
       "       0.54845904, 0.57339822, 0.57339822, 0.56731549, 0.57948094,\n",
       "       0.57137064, 0.63706407, 0.62814274, 0.63219789, 0.62550689,\n",
       "       0.61942417, 0.63219789, 0.61111111, 0.62206002, 0.64557989,\n",
       "       0.67234388, 0.66058394, 0.64760746, 0.6283455 , 0.62408759,\n",
       "       0.61597729, 0.63341444, 0.63077859, 0.63321168, 0.64841849,\n",
       "       0.62469586, 0.62814274, 0.61394972, 0.67964315, 0.65815085,\n",
       "       0.6593674 , 0.64841849, 0.62773723, 0.67883212, 0.66058394,\n",
       "       0.63990268, 0.60888078, 0.6431468 , 0.6784266 , 0.65064882,\n",
       "       0.71695053, 0.74574209, 0.7676399 , 0.78548256, 0.78994323,\n",
       "       0.75892133, 0.76520681, 0.79622871, 0.81062449, 0.74371452])"
      ]
     },
     "execution_count": 22,
     "metadata": {},
     "output_type": "execute_result"
    }
   ],
   "source": [
    "x_train[0]"
   ]
  },
  {
   "cell_type": "code",
   "execution_count": 24,
   "metadata": {},
   "outputs": [
    {
     "data": {
      "text/plain": [
       "array([0.77007299, 0.73641525, 0.73763179])"
      ]
     },
     "execution_count": 24,
     "metadata": {},
     "output_type": "execute_result"
    }
   ],
   "source": [
    "y_train[0:3]"
   ]
  },
  {
   "cell_type": "code",
   "execution_count": 25,
   "metadata": {},
   "outputs": [
    {
     "data": {
      "text/plain": [
       "1975"
      ]
     },
     "execution_count": 25,
     "metadata": {},
     "output_type": "execute_result"
    }
   ],
   "source": [
    "x_train.shape[0]"
   ]
  },
  {
   "cell_type": "code",
   "execution_count": 26,
   "metadata": {},
   "outputs": [
    {
     "data": {
      "text/plain": [
       "60"
      ]
     },
     "execution_count": 26,
     "metadata": {},
     "output_type": "execute_result"
    }
   ],
   "source": [
    "x_train.shape[1]"
   ]
  },
  {
   "cell_type": "code",
   "execution_count": 28,
   "metadata": {},
   "outputs": [],
   "source": [
    "#reshaping\n",
    "x_train=np.reshape(x_train,(x_train.shape[0],x_train.shape[1],1))"
   ]
  },
  {
   "cell_type": "code",
   "execution_count": 29,
   "metadata": {
    "scrolled": true
   },
   "outputs": [
    {
     "data": {
      "text/plain": [
       "array([[[0.6202352 ],\n",
       "        [0.62226277],\n",
       "        [0.64436334],\n",
       "        ...,\n",
       "        [0.79622871],\n",
       "        [0.81062449],\n",
       "        [0.74371452]],\n",
       "\n",
       "       [[0.62226277],\n",
       "        [0.64436334],\n",
       "        [0.61719384],\n",
       "        ...,\n",
       "        [0.81062449],\n",
       "        [0.74371452],\n",
       "        [0.77007299]],\n",
       "\n",
       "       [[0.64436334],\n",
       "        [0.61719384],\n",
       "        [0.61820762],\n",
       "        ...,\n",
       "        [0.74371452],\n",
       "        [0.77007299],\n",
       "        [0.73641525]],\n",
       "\n",
       "       ...,\n",
       "\n",
       "       [[0.19870235],\n",
       "        [0.21796431],\n",
       "        [0.21553122],\n",
       "        ...,\n",
       "        [0.14963504],\n",
       "        [0.14801298],\n",
       "        [0.15815085]],\n",
       "\n",
       "       [[0.21796431],\n",
       "        [0.21553122],\n",
       "        [0.20600162],\n",
       "        ...,\n",
       "        [0.14801298],\n",
       "        [0.15815085],\n",
       "        [0.16504461]],\n",
       "\n",
       "       [[0.21553122],\n",
       "        [0.20600162],\n",
       "        [0.21654501],\n",
       "        ...,\n",
       "        [0.15815085],\n",
       "        [0.16504461],\n",
       "        [0.15896188]]])"
      ]
     },
     "execution_count": 29,
     "metadata": {},
     "output_type": "execute_result"
    }
   ],
   "source": [
    "x_train"
   ]
  },
  {
   "cell_type": "code",
   "execution_count": null,
   "metadata": {},
   "outputs": [],
   "source": []
  },
  {
   "cell_type": "code",
   "execution_count": 31,
   "metadata": {},
   "outputs": [],
   "source": [
    "from keras.models import Sequential\n",
    "from keras.layers import Dense\n",
    "from keras.layers import LSTM\n",
    "from keras.layers import Dropout"
   ]
  },
  {
   "cell_type": "code",
   "execution_count": 32,
   "metadata": {},
   "outputs": [],
   "source": [
    "model=Sequential()"
   ]
  },
  {
   "cell_type": "code",
   "execution_count": 33,
   "metadata": {},
   "outputs": [],
   "source": [
    "#First layer\n",
    "# return_sequenceoutput that we want to be in Sequence or not  \n",
    "model.add(LSTM(units=50,return_sequences=True,input_shape=(x_train.shape[1],1)))\n",
    "model.add(Dropout(0.2))\n"
   ]
  },
  {
   "cell_type": "code",
   "execution_count": 34,
   "metadata": {},
   "outputs": [],
   "source": [
    "#Secound Layer\n",
    "model.add(LSTM(units=50,return_sequences=True,))\n",
    "model.add(Dropout(0.2))\n",
    "\n",
    "#Third Layer\n",
    "model.add(LSTM(units=50,return_sequences=True,))\n",
    "model.add(Dropout(0.2))"
   ]
  },
  {
   "cell_type": "code",
   "execution_count": 35,
   "metadata": {},
   "outputs": [],
   "source": [
    "model.add(LSTM(units=50))\n",
    "model.add(Dropout(0.2))"
   ]
  },
  {
   "cell_type": "code",
   "execution_count": 36,
   "metadata": {},
   "outputs": [],
   "source": [
    "model.add(Dense(units=1))"
   ]
  },
  {
   "cell_type": "code",
   "execution_count": 37,
   "metadata": {},
   "outputs": [],
   "source": [
    "model.compile(optimizer='adam',loss=\"mean_squared_error\")"
   ]
  },
  {
   "cell_type": "code",
   "execution_count": 38,
   "metadata": {},
   "outputs": [
    {
     "name": "stdout",
     "output_type": "stream",
     "text": [
      "Epoch 1/20\n",
      "1975/1975 [==============================] - 9s 5ms/step - loss: 0.0087\n",
      "Epoch 2/20\n",
      "1975/1975 [==============================] - 7s 4ms/step - loss: 0.0030\n",
      "Epoch 3/20\n",
      "1975/1975 [==============================] - 8s 4ms/step - loss: 0.0027\n",
      "Epoch 4/20\n",
      "1975/1975 [==============================] - 8s 4ms/step - loss: 0.0027\n",
      "Epoch 5/20\n",
      "1975/1975 [==============================] - 8s 4ms/step - loss: 0.0025\n",
      "Epoch 6/20\n",
      "1975/1975 [==============================] - 8s 4ms/step - loss: 0.0029\n",
      "Epoch 7/20\n",
      "1975/1975 [==============================] - 7s 4ms/step - loss: 0.0023\n",
      "Epoch 8/20\n",
      "1975/1975 [==============================] - 7s 4ms/step - loss: 0.0020\n",
      "Epoch 9/20\n",
      "1975/1975 [==============================] - 7s 4ms/step - loss: 0.0025\n",
      "Epoch 10/20\n",
      "1975/1975 [==============================] - 7s 4ms/step - loss: 0.0019\n",
      "Epoch 11/20\n",
      "1975/1975 [==============================] - 8s 4ms/step - loss: 0.0019\n",
      "Epoch 12/20\n",
      "1975/1975 [==============================] - 8s 4ms/step - loss: 0.0015\n",
      "Epoch 13/20\n",
      "1975/1975 [==============================] - 7s 4ms/step - loss: 0.0016\n",
      "Epoch 14/20\n",
      "1975/1975 [==============================] - 8s 4ms/step - loss: 0.0017\n",
      "Epoch 15/20\n",
      "1975/1975 [==============================] - 8s 4ms/step - loss: 0.0016\n",
      "Epoch 16/20\n",
      "1975/1975 [==============================] - 8s 4ms/step - loss: 0.0015\n",
      "Epoch 17/20\n",
      "1975/1975 [==============================] - 9s 4ms/step - loss: 0.0017\n",
      "Epoch 18/20\n",
      "1975/1975 [==============================] - 8s 4ms/step - loss: 0.0014\n",
      "Epoch 19/20\n",
      "1975/1975 [==============================] - 8s 4ms/step - loss: 0.0013\n",
      "Epoch 20/20\n",
      "1975/1975 [==============================] - 8s 4ms/step - loss: 0.0015\n"
     ]
    },
    {
     "data": {
      "text/plain": [
       "<keras.callbacks.callbacks.History at 0x208b64fec18>"
      ]
     },
     "execution_count": 38,
     "metadata": {},
     "output_type": "execute_result"
    }
   ],
   "source": [
    "model.fit(x_train,y_train,epochs=20,batch_size=32)"
   ]
  },
  {
   "cell_type": "markdown",
   "metadata": {},
   "source": [
    "## Prediction "
   ]
  },
  {
   "cell_type": "code",
   "execution_count": 45,
   "metadata": {},
   "outputs": [
    {
     "data": {
      "text/plain": [
       "1975"
      ]
     },
     "execution_count": 45,
     "metadata": {},
     "output_type": "execute_result"
    }
   ],
   "source": [
    "#sample example\n",
    "x_test=x_train[1800:1976]\n",
    "len(x_train)"
   ]
  },
  {
   "cell_type": "code",
   "execution_count": 46,
   "metadata": {},
   "outputs": [
    {
     "data": {
      "text/plain": [
       "array([[[0.04217356],\n",
       "        [0.03730738],\n",
       "        [0.05109489],\n",
       "        ...,\n",
       "        [0.06751825],\n",
       "        [0.0663017 ],\n",
       "        [0.06650446]],\n",
       "\n",
       "       [[0.03730738],\n",
       "        [0.05109489],\n",
       "        [0.05433901],\n",
       "        ...,\n",
       "        [0.0663017 ],\n",
       "        [0.06650446],\n",
       "        [0.07055961]],\n",
       "\n",
       "       [[0.05109489],\n",
       "        [0.05433901],\n",
       "        [0.07137064],\n",
       "        ...,\n",
       "        [0.06650446],\n",
       "        [0.07055961],\n",
       "        [0.06934307]],\n",
       "\n",
       "       ...,\n",
       "\n",
       "       [[0.19870235],\n",
       "        [0.21796431],\n",
       "        [0.21553122],\n",
       "        ...,\n",
       "        [0.14963504],\n",
       "        [0.14801298],\n",
       "        [0.15815085]],\n",
       "\n",
       "       [[0.21796431],\n",
       "        [0.21553122],\n",
       "        [0.20600162],\n",
       "        ...,\n",
       "        [0.14801298],\n",
       "        [0.15815085],\n",
       "        [0.16504461]],\n",
       "\n",
       "       [[0.21553122],\n",
       "        [0.20600162],\n",
       "        [0.21654501],\n",
       "        ...,\n",
       "        [0.15815085],\n",
       "        [0.16504461],\n",
       "        [0.15896188]]])"
      ]
     },
     "execution_count": 46,
     "metadata": {},
     "output_type": "execute_result"
    }
   ],
   "source": [
    "x_test"
   ]
  },
  {
   "cell_type": "code",
   "execution_count": 47,
   "metadata": {},
   "outputs": [
    {
     "data": {
      "text/plain": [
       "0.13904476"
      ]
     },
     "execution_count": 47,
     "metadata": {},
     "output_type": "execute_result"
    }
   ],
   "source": [
    "np.mean(model.predict(x_test))"
   ]
  },
  {
   "cell_type": "code",
   "execution_count": 48,
   "metadata": {},
   "outputs": [
    {
     "data": {
      "text/plain": [
       "array([[0.10358191],\n",
       "       [0.09926096],\n",
       "       [0.09450546],\n",
       "       [0.09008539],\n",
       "       [0.08638455],\n",
       "       [0.08354542],\n",
       "       [0.08157868],\n",
       "       [0.08044294],\n",
       "       [0.07998149],\n",
       "       [0.07998185],\n",
       "       [0.08033907],\n",
       "       [0.08103025],\n",
       "       [0.08227301],\n",
       "       [0.08355264],\n",
       "       [0.08431775],\n",
       "       [0.08417117],\n",
       "       [0.08250309],\n",
       "       [0.07921779],\n",
       "       [0.07469667],\n",
       "       [0.06961054],\n",
       "       [0.06451783],\n",
       "       [0.05968698],\n",
       "       [0.05533523],\n",
       "       [0.05226293],\n",
       "       [0.0511281 ],\n",
       "       [0.05201742],\n",
       "       [0.05451044],\n",
       "       [0.0585255 ],\n",
       "       [0.06329165],\n",
       "       [0.06795222],\n",
       "       [0.07182358],\n",
       "       [0.07427195],\n",
       "       [0.07470535],\n",
       "       [0.07296995],\n",
       "       [0.06982754],\n",
       "       [0.06648416],\n",
       "       [0.06403355],\n",
       "       [0.06294514],\n",
       "       [0.0632921 ],\n",
       "       [0.06495442],\n",
       "       [0.0678125 ],\n",
       "       [0.07140466],\n",
       "       [0.07582513],\n",
       "       [0.08108269],\n",
       "       [0.08699653],\n",
       "       [0.09294859],\n",
       "       [0.0984368 ],\n",
       "       [0.10302427],\n",
       "       [0.106458  ],\n",
       "       [0.10876299],\n",
       "       [0.11005802],\n",
       "       [0.11051209],\n",
       "       [0.11020981],\n",
       "       [0.10918136],\n",
       "       [0.10772739],\n",
       "       [0.10658124],\n",
       "       [0.1066063 ],\n",
       "       [0.10828471],\n",
       "       [0.11159761],\n",
       "       [0.11599102],\n",
       "       [0.12047342],\n",
       "       [0.12417868],\n",
       "       [0.12682797],\n",
       "       [0.12846357],\n",
       "       [0.12931132],\n",
       "       [0.1298446 ],\n",
       "       [0.13041285],\n",
       "       [0.13129334],\n",
       "       [0.13284793],\n",
       "       [0.13520288],\n",
       "       [0.13802125],\n",
       "       [0.1408413 ],\n",
       "       [0.14328918],\n",
       "       [0.14501815],\n",
       "       [0.14593507],\n",
       "       [0.14588273],\n",
       "       [0.14531477],\n",
       "       [0.14463954],\n",
       "       [0.14418   ],\n",
       "       [0.14385742],\n",
       "       [0.14379862],\n",
       "       [0.14408854],\n",
       "       [0.1444806 ],\n",
       "       [0.14467554],\n",
       "       [0.14455155],\n",
       "       [0.14402783],\n",
       "       [0.14373289],\n",
       "       [0.14415017],\n",
       "       [0.14523184],\n",
       "       [0.14715758],\n",
       "       [0.14985093],\n",
       "       [0.15323657],\n",
       "       [0.15738997],\n",
       "       [0.16229439],\n",
       "       [0.16785845],\n",
       "       [0.17431234],\n",
       "       [0.18119058],\n",
       "       [0.18747565],\n",
       "       [0.19237888],\n",
       "       [0.19590093],\n",
       "       [0.19781573],\n",
       "       [0.19824049],\n",
       "       [0.19745633],\n",
       "       [0.19589928],\n",
       "       [0.19417521],\n",
       "       [0.19287738],\n",
       "       [0.19226158],\n",
       "       [0.19243532],\n",
       "       [0.19340122],\n",
       "       [0.19522439],\n",
       "       [0.19757035],\n",
       "       [0.19996774],\n",
       "       [0.20227712],\n",
       "       [0.20429873],\n",
       "       [0.20638792],\n",
       "       [0.20875129],\n",
       "       [0.21113117],\n",
       "       [0.21348168],\n",
       "       [0.21576287],\n",
       "       [0.217928  ],\n",
       "       [0.21941417],\n",
       "       [0.21961334],\n",
       "       [0.21802028],\n",
       "       [0.21459165],\n",
       "       [0.20942935],\n",
       "       [0.20310187],\n",
       "       [0.19647205],\n",
       "       [0.19046235],\n",
       "       [0.18588781],\n",
       "       [0.18284784],\n",
       "       [0.18093236],\n",
       "       [0.1798304 ],\n",
       "       [0.17946404],\n",
       "       [0.17954929],\n",
       "       [0.17984208],\n",
       "       [0.18029498],\n",
       "       [0.18097821],\n",
       "       [0.1820427 ],\n",
       "       [0.18375559],\n",
       "       [0.18608427],\n",
       "       [0.18882379],\n",
       "       [0.19126806],\n",
       "       [0.19278178],\n",
       "       [0.19301182],\n",
       "       [0.1921506 ],\n",
       "       [0.19033884],\n",
       "       [0.18734968],\n",
       "       [0.18338215],\n",
       "       [0.17890117],\n",
       "       [0.17434579],\n",
       "       [0.1698792 ],\n",
       "       [0.165883  ],\n",
       "       [0.16223702],\n",
       "       [0.15860811],\n",
       "       [0.15464906],\n",
       "       [0.15031415],\n",
       "       [0.14597857],\n",
       "       [0.14247   ],\n",
       "       [0.14012527],\n",
       "       [0.1388983 ],\n",
       "       [0.13863093],\n",
       "       [0.13900205],\n",
       "       [0.13959987],\n",
       "       [0.14031678],\n",
       "       [0.14140984],\n",
       "       [0.14318675],\n",
       "       [0.14568359],\n",
       "       [0.14859386],\n",
       "       [0.15143952],\n",
       "       [0.15342845],\n",
       "       [0.15462084],\n",
       "       [0.15528119],\n",
       "       [0.15590985],\n",
       "       [0.15701216],\n",
       "       [0.15864386]], dtype=float32)"
      ]
     },
     "execution_count": 48,
     "metadata": {},
     "output_type": "execute_result"
    }
   ],
   "source": [
    "s=model.predict(x_test)\n",
    "s"
   ]
  },
  {
   "cell_type": "code",
   "execution_count": 49,
   "metadata": {},
   "outputs": [
    {
     "data": {
      "text/plain": [
       "175"
      ]
     },
     "execution_count": 49,
     "metadata": {},
     "output_type": "execute_result"
    }
   ],
   "source": [
    "len(s)"
   ]
  },
  {
   "cell_type": "code",
   "execution_count": 50,
   "metadata": {},
   "outputs": [
    {
     "data": {
      "text/plain": [
       "array([[106.6433  ],\n",
       "       [105.57775 ],\n",
       "       [104.40505 ],\n",
       "       [103.315056],\n",
       "       [102.40243 ],\n",
       "       [101.7023  ],\n",
       "       [101.2173  ],\n",
       "       [100.93723 ],\n",
       "       [100.82343 ],\n",
       "       [100.823524],\n",
       "       [100.91161 ],\n",
       "       [101.08206 ],\n",
       "       [101.38853 ],\n",
       "       [101.70408 ],\n",
       "       [101.89276 ],\n",
       "       [101.856606],\n",
       "       [101.44526 ],\n",
       "       [100.63511 ],\n",
       "       [ 99.5202  ],\n",
       "       [ 98.26596 ],\n",
       "       [ 97.0101  ],\n",
       "       [ 95.81881 ],\n",
       "       [ 94.74567 ],\n",
       "       [ 93.988045],\n",
       "       [ 93.70819 ],\n",
       "       [ 93.9275  ],\n",
       "       [ 94.542274],\n",
       "       [ 95.532394],\n",
       "       [ 96.70772 ],\n",
       "       [ 97.85702 ],\n",
       "       [ 98.81169 ],\n",
       "       [ 99.41547 ],\n",
       "       [ 99.52234 ],\n",
       "       [ 99.09439 ],\n",
       "       [ 98.31947 ],\n",
       "       [ 97.494995],\n",
       "       [ 96.89067 ],\n",
       "       [ 96.62227 ],\n",
       "       [ 96.70783 ],\n",
       "       [ 97.11776 ],\n",
       "       [ 97.82256 ],\n",
       "       [ 98.70839 ],\n",
       "       [ 99.79848 ],\n",
       "       [101.09499 ],\n",
       "       [102.553345],\n",
       "       [104.021126],\n",
       "       [105.37452 ],\n",
       "       [106.50578 ],\n",
       "       [107.35254 ],\n",
       "       [107.92095 ],\n",
       "       [108.24031 ],\n",
       "       [108.35228 ],\n",
       "       [108.27774 ],\n",
       "       [108.024124],\n",
       "       [107.66557 ],\n",
       "       [107.382935],\n",
       "       [107.389114],\n",
       "       [107.80302 ],\n",
       "       [108.61997 ],\n",
       "       [109.703384],\n",
       "       [110.80875 ],\n",
       "       [111.722466],\n",
       "       [112.37578 ],\n",
       "       [112.77912 ],\n",
       "       [112.988174],\n",
       "       [113.11968 ],\n",
       "       [113.25981 ],\n",
       "       [113.47694 ],\n",
       "       [113.860306],\n",
       "       [114.44103 ],\n",
       "       [115.13604 ],\n",
       "       [115.83147 ],\n",
       "       [116.43511 ],\n",
       "       [116.86147 ],\n",
       "       [117.087585],\n",
       "       [117.074684],\n",
       "       [116.93462 ],\n",
       "       [116.76811 ],\n",
       "       [116.65479 ],\n",
       "       [116.57524 ],\n",
       "       [116.560745],\n",
       "       [116.63223 ],\n",
       "       [116.72891 ],\n",
       "       [116.776985],\n",
       "       [116.746414],\n",
       "       [116.61726 ],\n",
       "       [116.54453 ],\n",
       "       [116.64744 ],\n",
       "       [116.91418 ],\n",
       "       [117.38906 ],\n",
       "       [118.053246],\n",
       "       [118.88814 ],\n",
       "       [119.91237 ],\n",
       "       [121.121796],\n",
       "       [122.4939  ],\n",
       "       [124.08543 ],\n",
       "       [125.78159 ],\n",
       "       [127.33149 ],\n",
       "       [128.54063 ],\n",
       "       [129.40916 ],\n",
       "       [129.88136 ],\n",
       "       [129.9861  ],\n",
       "       [129.79272 ],\n",
       "       [129.40875 ],\n",
       "       [128.9836  ],\n",
       "       [128.66356 ],\n",
       "       [128.5117  ],\n",
       "       [128.55455 ],\n",
       "       [128.79274 ],\n",
       "       [129.24234 ],\n",
       "       [129.82085 ],\n",
       "       [130.41205 ],\n",
       "       [130.98154 ],\n",
       "       [131.48007 ],\n",
       "       [131.99527 ],\n",
       "       [132.57806 ],\n",
       "       [133.16495 ],\n",
       "       [133.74458 ],\n",
       "       [134.30713 ],\n",
       "       [134.84105 ],\n",
       "       [135.20753 ],\n",
       "       [135.25665 ],\n",
       "       [134.8638  ],\n",
       "       [134.0183  ],\n",
       "       [132.74527 ],\n",
       "       [131.18492 ],\n",
       "       [129.55    ],\n",
       "       [128.06802 ],\n",
       "       [126.93994 ],\n",
       "       [126.190285],\n",
       "       [125.71792 ],\n",
       "       [125.446175],\n",
       "       [125.355835],\n",
       "       [125.376854],\n",
       "       [125.44905 ],\n",
       "       [125.560745],\n",
       "       [125.729225],\n",
       "       [125.99174 ],\n",
       "       [126.41413 ],\n",
       "       [126.98838 ],\n",
       "       [127.66394 ],\n",
       "       [128.2667  ],\n",
       "       [128.63998 ],\n",
       "       [128.69672 ],\n",
       "       [128.48434 ],\n",
       "       [128.03757 ],\n",
       "       [127.30043 ],\n",
       "       [126.322044],\n",
       "       [125.217026],\n",
       "       [124.09367 ],\n",
       "       [122.99221 ],\n",
       "       [122.00675 ],\n",
       "       [121.10765 ],\n",
       "       [120.21276 ],\n",
       "       [119.23646 ],\n",
       "       [118.16747 ],\n",
       "       [117.09832 ],\n",
       "       [116.23311 ],\n",
       "       [115.6549  ],\n",
       "       [115.35232 ],\n",
       "       [115.28639 ],\n",
       "       [115.37791 ],\n",
       "       [115.52533 ],\n",
       "       [115.702126],\n",
       "       [115.97167 ],\n",
       "       [116.40986 ],\n",
       "       [117.02557 ],\n",
       "       [117.74325 ],\n",
       "       [118.444984],\n",
       "       [118.935455],\n",
       "       [119.2295  ],\n",
       "       [119.39234 ],\n",
       "       [119.54737 ],\n",
       "       [119.81921 ],\n",
       "       [120.22157 ]], dtype=float32)"
      ]
     },
     "execution_count": 50,
     "metadata": {},
     "output_type": "execute_result"
    }
   ],
   "source": [
    "sc.inverse_transform(s)"
   ]
  },
  {
   "cell_type": "code",
   "execution_count": 51,
   "metadata": {},
   "outputs": [],
   "source": []
  },
  {
   "cell_type": "code",
   "execution_count": null,
   "metadata": {},
   "outputs": [],
   "source": []
  },
  {
   "cell_type": "code",
   "execution_count": null,
   "metadata": {},
   "outputs": [],
   "source": []
  },
  {
   "cell_type": "code",
   "execution_count": 43,
   "metadata": {},
   "outputs": [
    {
     "data": {
      "text/plain": [
       "0.7371451743714517"
      ]
     },
     "execution_count": 43,
     "metadata": {},
     "output_type": "execute_result"
    }
   ],
   "source": [
    "np.mean(y_train[5:10])"
   ]
  },
  {
   "cell_type": "code",
   "execution_count": null,
   "metadata": {},
   "outputs": [],
   "source": []
  },
  {
   "cell_type": "code",
   "execution_count": null,
   "metadata": {},
   "outputs": [],
   "source": []
  },
  {
   "cell_type": "code",
   "execution_count": null,
   "metadata": {},
   "outputs": [],
   "source": []
  }
 ],
 "metadata": {
  "kernelspec": {
   "display_name": "Python 3",
   "language": "python",
   "name": "python3"
  },
  "language_info": {
   "codemirror_mode": {
    "name": "ipython",
    "version": 3
   },
   "file_extension": ".py",
   "mimetype": "text/x-python",
   "name": "python",
   "nbconvert_exporter": "python",
   "pygments_lexer": "ipython3",
   "version": "3.7.3"
  }
 },
 "nbformat": 4,
 "nbformat_minor": 2
}
